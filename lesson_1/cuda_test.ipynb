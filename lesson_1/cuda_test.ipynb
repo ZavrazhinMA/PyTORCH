{
 "cells": [
  {
   "cell_type": "code",
   "execution_count": 1,
   "metadata": {
    "ExecuteTime": {
     "end_time": "2021-06-12T12:11:07.783825Z",
     "start_time": "2021-06-12T12:11:06.658179Z"
    }
   },
   "outputs": [],
   "source": [
    "import torch"
   ]
  },
  {
   "cell_type": "markdown",
   "metadata": {},
   "source": [
    "# CUDA"
   ]
  },
  {
   "cell_type": "code",
   "execution_count": 2,
   "metadata": {
    "ExecuteTime": {
     "end_time": "2021-06-12T12:11:09.165965Z",
     "start_time": "2021-06-12T12:11:09.097965Z"
    }
   },
   "outputs": [
    {
     "data": {
      "text/plain": [
       "tensor([[0.3363, 0.5671, 0.8107,  ..., 0.8896, 0.5246, 0.5951],\n",
       "        [0.5964, 0.4613, 0.6189,  ..., 0.4849, 0.4621, 0.7252],\n",
       "        [0.6759, 0.4383, 0.1671,  ..., 0.5270, 0.6363, 0.1007],\n",
       "        ...,\n",
       "        [0.5357, 0.6522, 0.0056,  ..., 0.4093, 0.2206, 0.9231],\n",
       "        [0.8596, 0.1210, 0.8762,  ..., 0.0386, 0.1046, 0.9616],\n",
       "        [0.3260, 0.1452, 0.1382,  ..., 0.1238, 0.0316, 0.2313]])"
      ]
     },
     "execution_count": 2,
     "metadata": {},
     "output_type": "execute_result"
    }
   ],
   "source": [
    "x = torch.FloatTensor(1024, 10024).uniform_()\n",
    "x"
   ]
  },
  {
   "cell_type": "code",
   "execution_count": 3,
   "metadata": {
    "ExecuteTime": {
     "end_time": "2021-06-12T12:11:11.429632Z",
     "start_time": "2021-06-12T12:11:11.418643Z"
    }
   },
   "outputs": [
    {
     "data": {
      "text/plain": [
       "False"
      ]
     },
     "execution_count": 3,
     "metadata": {},
     "output_type": "execute_result"
    }
   ],
   "source": [
    "x.is_cuda"
   ]
  },
  {
   "cell_type": "code",
   "execution_count": 10,
   "metadata": {
    "ExecuteTime": {
     "end_time": "2021-06-12T12:10:12.638779Z",
     "start_time": "2021-06-12T12:10:04.947911Z"
    }
   },
   "outputs": [
    {
     "name": "stdout",
     "output_type": "stream",
     "text": [
      "Looking in links: https://download.pytorch.org/whl/torch_stable.html\n",
      "Requirement already satisfied: torch==1.8.1+cu111 in c:\\users\\batman\\anaconda3\\lib\\site-packages (1.8.1+cu111)\n",
      "Collecting torchvision==0.9.1+cu111\n",
      "  Using cached https://download.pytorch.org/whl/cu111/torchvision-0.9.1%2Bcu111-cp38-cp38-win_amd64.whl (1.9 MB)\n",
      "Collecting torchaudio===0.8.1\n",
      "  Using cached torchaudio-0.8.1-cp38-none-win_amd64.whl (109 kB)\n",
      "Requirement already satisfied: typing-extensions in c:\\users\\batman\\anaconda3\\lib\\site-packages (from torch==1.8.1+cu111) (3.7.4.3)\n",
      "Requirement already satisfied: numpy in c:\\users\\batman\\anaconda3\\lib\\site-packages (from torch==1.8.1+cu111) (1.19.2)\n",
      "Requirement already satisfied: pillow>=4.1.1 in c:\\users\\batman\\anaconda3\\lib\\site-packages (from torchvision==0.9.1+cu111) (8.0.1)\n",
      "Installing collected packages: torchvision, torchaudio\n",
      "Successfully installed torchaudio-0.8.1 torchvision-0.9.1+cu111\n"
     ]
    }
   ],
   "source": [
    "# !pip3 install torch==1.8.1+cu111 torchvision==0.9.1+cu111 torchaudio===0.8.1 -f https://download.pytorch.org/whl/torch_stable.html --user\n"
   ]
  },
  {
   "cell_type": "code",
   "execution_count": 5,
   "metadata": {
    "ExecuteTime": {
     "end_time": "2021-06-12T12:11:25.257192Z",
     "start_time": "2021-06-12T12:11:23.468193Z"
    }
   },
   "outputs": [],
   "source": [
    "x = x.cuda()"
   ]
  },
  {
   "cell_type": "code",
   "execution_count": 7,
   "metadata": {
    "ExecuteTime": {
     "end_time": "2021-06-12T12:12:16.257721Z",
     "start_time": "2021-06-12T12:12:16.225710Z"
    }
   },
   "outputs": [
    {
     "data": {
      "text/plain": [
       "tensor([[0.3363, 0.5671, 0.8107,  ..., 0.8896, 0.5246, 0.5951],\n",
       "        [0.5964, 0.4613, 0.6189,  ..., 0.4849, 0.4621, 0.7252],\n",
       "        [0.6759, 0.4383, 0.1671,  ..., 0.5270, 0.6363, 0.1007],\n",
       "        ...,\n",
       "        [0.5357, 0.6522, 0.0056,  ..., 0.4093, 0.2206, 0.9231],\n",
       "        [0.8596, 0.1210, 0.8762,  ..., 0.0386, 0.1046, 0.9616],\n",
       "        [0.3260, 0.1452, 0.1382,  ..., 0.1238, 0.0316, 0.2313]],\n",
       "       device='cuda:0')"
      ]
     },
     "execution_count": 7,
     "metadata": {},
     "output_type": "execute_result"
    }
   ],
   "source": [
    "x"
   ]
  },
  {
   "cell_type": "code",
   "execution_count": 9,
   "metadata": {
    "ExecuteTime": {
     "end_time": "2021-06-12T12:13:39.046346Z",
     "start_time": "2021-06-12T12:13:39.029474Z"
    }
   },
   "outputs": [
    {
     "data": {
      "text/plain": [
       "tensor([[0.3363, 0.5671, 0.8107,  ..., 0.8896, 0.5246, 0.5951],\n",
       "        [0.5964, 0.4613, 0.6189,  ..., 0.4849, 0.4621, 0.7252],\n",
       "        [0.6759, 0.4383, 0.1671,  ..., 0.5270, 0.6363, 0.1007],\n",
       "        ...,\n",
       "        [0.5357, 0.6522, 0.0056,  ..., 0.4093, 0.2206, 0.9231],\n",
       "        [0.8596, 0.1210, 0.8762,  ..., 0.0386, 0.1046, 0.9616],\n",
       "        [0.3260, 0.1452, 0.1382,  ..., 0.1238, 0.0316, 0.2313]])"
      ]
     },
     "execution_count": 9,
     "metadata": {},
     "output_type": "execute_result"
    }
   ],
   "source": [
    "x = x.cpu()\n",
    "x"
   ]
  },
  {
   "cell_type": "code",
   "execution_count": 11,
   "metadata": {
    "ExecuteTime": {
     "end_time": "2021-06-12T12:14:59.104525Z",
     "start_time": "2021-06-12T12:14:59.068927Z"
    }
   },
   "outputs": [
    {
     "data": {
      "text/plain": [
       "tensor([[0.3363, 0.5671, 0.8107,  ..., 0.8896, 0.5246, 0.5951],\n",
       "        [0.5964, 0.4613, 0.6189,  ..., 0.4849, 0.4621, 0.7252],\n",
       "        [0.6759, 0.4383, 0.1671,  ..., 0.5270, 0.6363, 0.1007],\n",
       "        ...,\n",
       "        [0.5357, 0.6522, 0.0056,  ..., 0.4093, 0.2206, 0.9231],\n",
       "        [0.8596, 0.1210, 0.8762,  ..., 0.0386, 0.1046, 0.9616],\n",
       "        [0.3260, 0.1452, 0.1382,  ..., 0.1238, 0.0316, 0.2313]],\n",
       "       device='cuda:0')"
      ]
     },
     "execution_count": 11,
     "metadata": {},
     "output_type": "execute_result"
    }
   ],
   "source": [
    "torch.cuda.empty_cache()\n",
    "device = torch.device(\"cuda:0\")\n",
    "x = x.to(device)\n",
    "x"
   ]
  },
  {
   "cell_type": "code",
   "execution_count": 13,
   "metadata": {
    "ExecuteTime": {
     "end_time": "2021-06-12T12:16:37.667330Z",
     "start_time": "2021-06-12T12:16:36.223330Z"
    }
   },
   "outputs": [
    {
     "data": {
      "text/plain": [
       "tensor([[0.0159, 0.7078, 0.0160,  ..., 0.1304, 0.4283, 0.0180],\n",
       "        [0.4908, 0.6089, 0.6351,  ..., 0.4309, 0.1435, 0.1561],\n",
       "        [0.4127, 0.0334, 0.0080,  ..., 0.0751, 0.2225, 0.0749],\n",
       "        ...,\n",
       "        [0.0751, 0.3444, 0.2069,  ..., 0.2414, 0.3061, 0.3871],\n",
       "        [0.0362, 0.6413, 0.2665,  ..., 0.4081, 0.3758, 0.4295],\n",
       "        [0.3842, 0.1602, 0.4448,  ..., 0.0550, 0.0504, 0.3530]])"
      ]
     },
     "execution_count": 13,
     "metadata": {},
     "output_type": "execute_result"
    }
   ],
   "source": [
    "a = torch.FloatTensor(10000, 10000).uniform_()\n",
    "b = torch.FloatTensor(10000, 10000).uniform_()\n",
    "c = a.cuda().mul(b.cuda()).cpu()\n",
    "c"
   ]
  },
  {
   "cell_type": "code",
   "execution_count": 14,
   "metadata": {
    "ExecuteTime": {
     "end_time": "2021-06-12T12:17:30.764931Z",
     "start_time": "2021-06-12T12:17:30.732943Z"
    }
   },
   "outputs": [
    {
     "name": "stdout",
     "output_type": "stream",
     "text": [
      "tensor([[[1.2077, 1.1641, 1.6498, 1.6731, 1.7573],\n",
      "         [1.5903, 1.9865, 1.2188, 1.0934, 1.0907],\n",
      "         [1.4835, 1.5855, 1.8310, 1.6898, 1.8902],\n",
      "         [1.9632, 1.5813, 1.5807, 1.6303, 1.6547],\n",
      "         [1.4467, 1.5998, 1.0949, 1.6972, 1.4468]],\n",
      "\n",
      "        [[1.1832, 1.3024, 1.3798, 1.6606, 1.8696],\n",
      "         [1.0398, 1.8778, 1.2634, 1.9877, 1.2189],\n",
      "         [1.7075, 1.1148, 1.1481, 1.9320, 1.1343],\n",
      "         [1.6900, 1.2840, 1.3315, 1.5270, 1.1909],\n",
      "         [1.0281, 1.5195, 1.6565, 1.4536, 1.1506]],\n",
      "\n",
      "        [[1.7819, 1.2737, 1.1762, 1.0843, 1.6962],\n",
      "         [1.4396, 1.8233, 1.1537, 1.3430, 1.5479],\n",
      "         [1.2826, 1.5255, 1.1636, 1.6420, 1.3605],\n",
      "         [1.4987, 1.3669, 1.0670, 1.6593, 1.4031],\n",
      "         [1.9546, 1.3137, 1.3199, 1.7646, 1.4491]],\n",
      "\n",
      "        [[1.1927, 1.6799, 1.2934, 1.9645, 1.7139],\n",
      "         [1.8851, 1.0395, 1.6528, 1.6762, 1.3919],\n",
      "         [1.2800, 1.8468, 1.5094, 1.8077, 1.7808],\n",
      "         [1.5087, 1.4051, 1.5290, 1.2276, 1.0697],\n",
      "         [1.3444, 1.6740, 1.5988, 1.2502, 1.4577]],\n",
      "\n",
      "        [[1.1455, 1.7366, 1.2325, 1.0420, 1.1459],\n",
      "         [1.0422, 1.2410, 1.0602, 1.4138, 1.3766],\n",
      "         [1.9857, 1.8637, 1.4834, 1.1153, 1.0167],\n",
      "         [1.6842, 1.9428, 1.1303, 1.7070, 1.6442],\n",
      "         [1.9048, 1.5979, 1.1434, 1.3150, 1.2949]]], device='cuda:0')\n",
      "tensor([[[1.2077, 1.1641, 1.6498, 1.6731, 1.7573],\n",
      "         [1.5903, 1.9865, 1.2188, 1.0934, 1.0907],\n",
      "         [1.4835, 1.5855, 1.8310, 1.6898, 1.8902],\n",
      "         [1.9632, 1.5813, 1.5807, 1.6303, 1.6547],\n",
      "         [1.4467, 1.5998, 1.0949, 1.6972, 1.4468]],\n",
      "\n",
      "        [[1.1832, 1.3024, 1.3798, 1.6606, 1.8696],\n",
      "         [1.0398, 1.8778, 1.2634, 1.9877, 1.2189],\n",
      "         [1.7075, 1.1148, 1.1481, 1.9320, 1.1343],\n",
      "         [1.6900, 1.2840, 1.3315, 1.5270, 1.1909],\n",
      "         [1.0281, 1.5195, 1.6565, 1.4536, 1.1506]],\n",
      "\n",
      "        [[1.7819, 1.2737, 1.1762, 1.0843, 1.6962],\n",
      "         [1.4396, 1.8233, 1.1537, 1.3430, 1.5479],\n",
      "         [1.2826, 1.5255, 1.1636, 1.6420, 1.3605],\n",
      "         [1.4987, 1.3669, 1.0670, 1.6593, 1.4031],\n",
      "         [1.9546, 1.3137, 1.3199, 1.7646, 1.4491]],\n",
      "\n",
      "        [[1.1927, 1.6799, 1.2934, 1.9645, 1.7139],\n",
      "         [1.8851, 1.0395, 1.6528, 1.6762, 1.3919],\n",
      "         [1.2800, 1.8468, 1.5094, 1.8077, 1.7808],\n",
      "         [1.5087, 1.4051, 1.5290, 1.2276, 1.0697],\n",
      "         [1.3444, 1.6740, 1.5988, 1.2502, 1.4577]],\n",
      "\n",
      "        [[1.1455, 1.7366, 1.2325, 1.0420, 1.1459],\n",
      "         [1.0422, 1.2410, 1.0602, 1.4138, 1.3766],\n",
      "         [1.9857, 1.8637, 1.4834, 1.1153, 1.0167],\n",
      "         [1.6842, 1.9428, 1.1303, 1.7070, 1.6442],\n",
      "         [1.9048, 1.5979, 1.1434, 1.3150, 1.2949]]], dtype=torch.float64)\n"
     ]
    }
   ],
   "source": [
    "x = torch.FloatTensor(5, 5, 5).uniform_()\n",
    "\n",
    "# check for CUDA availability (NVIDIA GPU)\n",
    "if torch.cuda.is_available():\n",
    "    # get the CUDA device name\n",
    "    device = torch.device('cuda')          # CUDA-device object\n",
    "    y = torch.ones_like(x, device=device)  # create a tensor on GPU\n",
    "    x = x.to(device)                       # or just `.to(\"cuda\")`\n",
    "    z = x + y\n",
    "    print(z)\n",
    "    # you can set the type while `.to` operation\n",
    "    print(z.to(\"cpu\", torch.double))"
   ]
  }
 ],
 "metadata": {
  "kernelspec": {
   "display_name": "Python 3",
   "language": "python",
   "name": "python3"
  },
  "language_info": {
   "codemirror_mode": {
    "name": "ipython",
    "version": 3
   },
   "file_extension": ".py",
   "mimetype": "text/x-python",
   "name": "python",
   "nbconvert_exporter": "python",
   "pygments_lexer": "ipython3",
   "version": "3.8.5"
  },
  "toc": {
   "base_numbering": 1,
   "nav_menu": {},
   "number_sections": true,
   "sideBar": true,
   "skip_h1_title": false,
   "title_cell": "Table of Contents",
   "title_sidebar": "Contents",
   "toc_cell": false,
   "toc_position": {},
   "toc_section_display": true,
   "toc_window_display": false
  }
 },
 "nbformat": 4,
 "nbformat_minor": 4
}
