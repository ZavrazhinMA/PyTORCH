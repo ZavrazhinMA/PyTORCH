{
 "cells": [
  {
   "cell_type": "markdown",
   "metadata": {},
   "source": [
    "# BASE OPERATIONS"
   ]
  },
  {
   "cell_type": "code",
   "execution_count": 1,
   "metadata": {
    "ExecuteTime": {
     "end_time": "2021-06-09T12:09:53.433203Z",
     "start_time": "2021-06-09T12:09:52.866507Z"
    },
    "id": "wl6gS1ACtg2h"
   },
   "outputs": [],
   "source": [
    "import torch\n",
    "import numpy as np"
   ]
  },
  {
   "cell_type": "code",
   "execution_count": 2,
   "metadata": {
    "ExecuteTime": {
     "end_time": "2021-06-09T12:09:53.449204Z",
     "start_time": "2021-06-09T12:09:53.435215Z"
    },
    "colab": {
     "base_uri": "https://localhost:8080/"
    },
    "id": "Tj2VbmMUvJrq",
    "outputId": "38c37514-3431-4e8d-fa05-60fc1a9ddc3b"
   },
   "outputs": [
    {
     "data": {
      "text/plain": [
       "torch.ByteTensor"
      ]
     },
     "execution_count": 2,
     "metadata": {},
     "output_type": "execute_result"
    }
   ],
   "source": [
    "# тензоры pytorch\n",
    "torch.HalfTensor      # 16 бит, floating point\n",
    "torch.FloatTensor     # 32 бита, floating point\n",
    "torch.DoubleTensor    # 64 бита, floating point\n",
    "\n",
    "torch.ShortTensor     # 16 бит, integer, signed\n",
    "torch.IntTensor       # 32 бита, integer, signed\n",
    "torch.LongTensor      # 64 бита, integer, signed\n",
    "\n",
    "torch.CharTensor      # 8 бит, integer, signed\n",
    "torch.ByteTensor      # 8 бит, integer, unsigned"
   ]
  },
  {
   "cell_type": "code",
   "execution_count": 3,
   "metadata": {
    "ExecuteTime": {
     "end_time": "2021-06-09T12:09:53.746065Z",
     "start_time": "2021-06-09T12:09:53.453203Z"
    },
    "colab": {
     "base_uri": "https://localhost:8080/"
    },
    "id": "TVNBpvv-vL1m",
    "outputId": "6457ca0b-e92d-4812-eabb-28c969a72cbf"
   },
   "outputs": [
    {
     "name": "stdout",
     "output_type": "stream",
     "text": [
      "tensor([1., 2.]) torch.Size([2])\n",
      "tensor([[1., 2., 3.],\n",
      "        [4., 5., 6.]]) torch.Size([2, 3])\n"
     ]
    }
   ],
   "source": [
    "# Создание тензора\n",
    "a = torch.FloatTensor([1, 2])\n",
    "b = torch.FloatTensor([[1, 2, 3], [4, 5, 6]])\n",
    "\n",
    "print(a, a.shape)\n",
    "print(b, b.shape)"
   ]
  },
  {
   "cell_type": "code",
   "execution_count": 4,
   "metadata": {
    "ExecuteTime": {
     "end_time": "2021-06-09T12:09:53.762065Z",
     "start_time": "2021-06-09T12:09:53.748055Z"
    },
    "colab": {
     "base_uri": "https://localhost:8080/"
    },
    "id": "I9Ag1twdyhWg",
    "outputId": "998a478d-da2a-47e1-83fe-c6ff7ac47af4"
   },
   "outputs": [
    {
     "name": "stdout",
     "output_type": "stream",
     "text": [
      "tensor([[[2.5226e-18, 2.5930e-09, 1.0356e-11, 3.0883e-09],\n",
      "         [1.6806e-04, 4.0747e-11, 1.0431e-08, 2.9572e-18],\n",
      "         [6.7333e+22, 1.7591e+22, 1.7184e+25, 4.3222e+27]],\n",
      "\n",
      "        [[6.1972e-04, 7.2443e+22, 1.7728e+28, 7.0367e+22],\n",
      "         [1.5109e-07, 2.0662e+20, 1.2858e-11, 1.3293e-08],\n",
      "         [1.0780e-08, 3.2913e-09, 1.0324e-05, 5.3481e+22]]]) torch.Size([2, 3, 4])\n"
     ]
    }
   ],
   "source": [
    "# создание тензора по размерам (заполнен случайными величинами (мусором))\n",
    "x = torch.FloatTensor(2, 3, 4)\n",
    "print(x, x.shape)"
   ]
  },
  {
   "cell_type": "code",
   "execution_count": 5,
   "metadata": {
    "ExecuteTime": {
     "end_time": "2021-06-09T12:09:53.778068Z",
     "start_time": "2021-06-09T12:09:53.764055Z"
    },
    "colab": {
     "base_uri": "https://localhost:8080/"
    },
    "id": "jWGLJ7sYza9i",
    "outputId": "94f131dd-3cba-4631-90d9-23a2a37b7232"
   },
   "outputs": [
    {
     "name": "stdout",
     "output_type": "stream",
     "text": [
      "tensor([[[4259917, 6029390, 7209057, 6488161],\n",
      "         [7209071, 6357092, 6029363, 6881388],\n",
      "         [6029410, 6881395, 6619252, 7340077]],\n",
      "\n",
      "        [[6488161, 6357099, 6619239, 6029427],\n",
      "         [7274612, 6488178, 6029416, 7667821],\n",
      "         [7602284, 7340137, 7274610, 6619235]],\n",
      "\n",
      "        [[7536755, 7209065, 6029415, 6226015],\n",
      "         [7929968, 6357091, 6815843, 6226021],\n",
      "         [6029407, 6357087, 6684788, 7471215]]], dtype=torch.int32) torch.Size([3, 3, 4])\n"
     ]
    }
   ],
   "source": [
    "x = torch.IntTensor(3, 3, 4)\n",
    "print(x, x.shape)"
   ]
  },
  {
   "cell_type": "code",
   "execution_count": 6,
   "metadata": {
    "ExecuteTime": {
     "end_time": "2021-06-09T12:09:53.841020Z",
     "start_time": "2021-06-09T12:09:53.781055Z"
    },
    "colab": {
     "base_uri": "https://localhost:8080/"
    },
    "id": "Gol60TCe1MyP",
    "outputId": "f0f85f0a-f046-4a00-a7de-5e63d3975b5e"
   },
   "outputs": [
    {
     "data": {
      "text/plain": [
       "tensor([[[0., 0., 0., 0.],\n",
       "         [0., 0., 0., 0.]],\n",
       "\n",
       "        [[0., 0., 0., 0.],\n",
       "         [0., 0., 0., 0.]],\n",
       "\n",
       "        [[0., 0., 0., 0.],\n",
       "         [0., 0., 0., 0.]]])"
      ]
     },
     "execution_count": 6,
     "metadata": {},
     "output_type": "execute_result"
    }
   ],
   "source": [
    "# заполнение 0\n",
    "x1 = torch.FloatTensor(3, 2, 4)\n",
    "x1.zero_()\n",
    "x2 = torch.zeros(3, 2, 4)\n",
    "x3 = torch.zeros_like(x1)\n",
    "\n",
    "assert torch.allclose(x1, x2) and torch.allclose(x1, x3)\n",
    "x1"
   ]
  },
  {
   "cell_type": "code",
   "execution_count": 7,
   "metadata": {
    "ExecuteTime": {
     "end_time": "2021-06-09T12:09:53.904509Z",
     "start_time": "2021-06-09T12:09:53.843009Z"
    },
    "colab": {
     "base_uri": "https://localhost:8080/"
    },
    "id": "Sjb5rNd_2Eug",
    "outputId": "fc3f01c3-dec6-450b-918a-c532374c705f"
   },
   "outputs": [
    {
     "name": "stdout",
     "output_type": "stream",
     "text": [
      "Стандартное Нормальное распределение: \n",
      "tensor([[-1.4923,  0.4991, -0.8757],\n",
      "        [ 0.3798, -1.0812,  0.3151]])\n",
      "Дискретное распределение: \n",
      "tensor([[8., 3., 0.],\n",
      "        [3., 5., 0.]])\n",
      "Равномерное распределение: \n",
      "tensor([[0.3946, 0.7799, 0.3997],\n",
      "        [0.5317, 0.8093, 0.7354]])\n",
      "Нормальное распределение: \n",
      "tensor([[-0.3220, -0.0956, -0.8434],\n",
      "        [-1.1891,  0.0841,  0.2941]])\n",
      "Распределение Бернулли: \n",
      "tensor([[0., 1., 0.],\n",
      "        [0., 1., 0.]])\n"
     ]
    }
   ],
   "source": [
    "# случайные распределения\n",
    "\n",
    "x = torch.randn((2, 3))\n",
    "print('Стандартное Нормальное распределение: ', x, sep='\\n')\n",
    "x.random_(0, 10)\n",
    "print('Дискретное распределение: ', x, sep='\\n')\n",
    "x.uniform_(0, 1)\n",
    "print('Равномерное распределение: ', x, sep='\\n')\n",
    "x.normal_(mean=0, std=1)\n",
    "print('Нормальное распределение: ', x, sep='\\n')\n",
    "x.bernoulli_(p=0.5)\n",
    "print('Распределение Бернулли: ', x, sep='\\n')"
   ]
  },
  {
   "cell_type": "code",
   "execution_count": 8,
   "metadata": {
    "ExecuteTime": {
     "end_time": "2021-06-09T12:09:53.920498Z",
     "start_time": "2021-06-09T12:09:53.906499Z"
    },
    "colab": {
     "base_uri": "https://localhost:8080/"
    },
    "id": "olDhS1WZ4d5n",
    "outputId": "7a8e1b09-cf24-43b5-8033-4adcdbb98897"
   },
   "outputs": [
    {
     "data": {
      "text/plain": [
       "(tensor([[1., 2., 3.],\n",
       "         [4., 5., 6.]]),\n",
       " (3, 1))"
      ]
     },
     "execution_count": 8,
     "metadata": {},
     "output_type": "execute_result"
    }
   ],
   "source": [
    "# изменение размерностей view = np.reshape\n",
    "b, b.stride()"
   ]
  },
  {
   "cell_type": "code",
   "execution_count": 9,
   "metadata": {
    "ExecuteTime": {
     "end_time": "2021-06-09T12:09:53.936498Z",
     "start_time": "2021-06-09T12:09:53.922501Z"
    },
    "colab": {
     "base_uri": "https://localhost:8080/"
    },
    "id": "OmNW_hfo6Cpm",
    "outputId": "476148f6-b3e7-450c-f9a3-d440eb109b54"
   },
   "outputs": [
    {
     "data": {
      "text/plain": [
       "(tensor([[1., 2.],\n",
       "         [3., 4.],\n",
       "         [5., 6.]]),\n",
       " (2, 1))"
      ]
     },
     "execution_count": 9,
     "metadata": {},
     "output_type": "execute_result"
    }
   ],
   "source": [
    "b.view(3, 2), b.view(3, 2).stride()"
   ]
  },
  {
   "cell_type": "code",
   "execution_count": 10,
   "metadata": {
    "ExecuteTime": {
     "end_time": "2021-06-09T12:09:53.952512Z",
     "start_time": "2021-06-09T12:09:53.938500Z"
    },
    "colab": {
     "base_uri": "https://localhost:8080/"
    },
    "id": "Dsf1Us3J6NyD",
    "outputId": "35ad779e-f48b-4cb4-b372-afe6cb6f13b2"
   },
   "outputs": [
    {
     "data": {
      "text/plain": [
       "(tensor([1., 2., 3., 4., 5., 6.]),\n",
       " tensor([[1., 2., 3.],\n",
       "         [4., 5., 6.]]))"
      ]
     },
     "execution_count": 10,
     "metadata": {},
     "output_type": "execute_result"
    }
   ],
   "source": [
    "b.view(-1), b  # не изменяет исходный тензор"
   ]
  },
  {
   "cell_type": "code",
   "execution_count": 11,
   "metadata": {
    "ExecuteTime": {
     "end_time": "2021-06-09T12:09:53.968512Z",
     "start_time": "2021-06-09T12:09:53.954512Z"
    },
    "colab": {
     "base_uri": "https://localhost:8080/"
    },
    "id": "xjeN0A-N6_CS",
    "outputId": "7920cc02-3e30-4736-abe7-1840ae047625"
   },
   "outputs": [
    {
     "data": {
      "text/plain": [
       "tensor([1., 2., 3., 4., 5., 6.])"
      ]
     },
     "execution_count": 11,
     "metadata": {},
     "output_type": "execute_result"
    }
   ],
   "source": [
    "b.reshape(-1)  # упорядоченная в памяти копия"
   ]
  },
  {
   "cell_type": "code",
   "execution_count": 12,
   "metadata": {
    "ExecuteTime": {
     "end_time": "2021-06-09T12:09:53.984512Z",
     "start_time": "2021-06-09T12:09:53.970500Z"
    },
    "colab": {
     "base_uri": "https://localhost:8080/"
    },
    "id": "DrBSluEW9MJk",
    "outputId": "fbab7311-767e-4885-a97f-b15c8a28e1e3"
   },
   "outputs": [
    {
     "data": {
      "text/plain": [
       "tensor([ 1,  3, -7], dtype=torch.int32)"
      ]
     },
     "execution_count": 12,
     "metadata": {},
     "output_type": "execute_result"
    }
   ],
   "source": [
    "# изменение типа тензоров\n",
    "# type_as не изменяет сходный тензор!\n",
    "a = torch.FloatTensor([1.5, 3.2, -7])\n",
    "a.type_as(torch.IntTensor())"
   ]
  },
  {
   "cell_type": "code",
   "execution_count": 13,
   "metadata": {
    "ExecuteTime": {
     "end_time": "2021-06-09T12:09:54.000511Z",
     "start_time": "2021-06-09T12:09:53.986499Z"
    },
    "colab": {
     "base_uri": "https://localhost:8080/"
    },
    "id": "F23g3_tS9bB6",
    "outputId": "00b7d3e3-8d32-4bae-d402-e67c496cbc20"
   },
   "outputs": [
    {
     "data": {
      "text/plain": [
       "(tensor([ 1,  3, -7], dtype=torch.int32),\n",
       " tensor([  1,   3, 249], dtype=torch.uint8))"
      ]
     },
     "execution_count": 13,
     "metadata": {},
     "output_type": "execute_result"
    }
   ],
   "source": [
    "a.to(torch.int32), a.to(torch.uint8)"
   ]
  },
  {
   "cell_type": "code",
   "execution_count": 14,
   "metadata": {
    "ExecuteTime": {
     "end_time": "2021-06-09T12:09:54.016511Z",
     "start_time": "2021-06-09T12:09:54.002501Z"
    },
    "id": "CTWmtKKe_maN"
   },
   "outputs": [],
   "source": [
    "# арифметические операции\n",
    "a = torch.FloatTensor([[1, 2, 3], [10, 20, 30], [100, 200, 300]])\n",
    "b = torch.FloatTensor([[-1, -2, -3], [-10, -20, -30], [100, 200, 300]])"
   ]
  },
  {
   "cell_type": "code",
   "execution_count": 15,
   "metadata": {
    "ExecuteTime": {
     "end_time": "2021-06-09T12:09:54.032511Z",
     "start_time": "2021-06-09T12:09:54.018502Z"
    },
    "colab": {
     "base_uri": "https://localhost:8080/"
    },
    "id": "kYXdmokQAm3y",
    "outputId": "d31bf729-bbac-4d3a-d786-448b7f513aff"
   },
   "outputs": [
    {
     "name": "stdout",
     "output_type": "stream",
     "text": [
      "tensor([[  0.,   0.,   0.],\n",
      "        [  0.,   0.,   0.],\n",
      "        [200., 400., 600.]])\n",
      "tensor([[ 2.,  4.,  6.],\n",
      "        [20., 40., 60.],\n",
      "        [ 0.,  0.,  0.]])\n",
      "tensor([[-1.0000e+00, -4.0000e+00, -9.0000e+00],\n",
      "        [-1.0000e+02, -4.0000e+02, -9.0000e+02],\n",
      "        [ 1.0000e+04,  4.0000e+04,  9.0000e+04]])\n",
      "tensor([[-1., -1., -1.],\n",
      "        [-1., -1., -1.],\n",
      "        [ 1.,  1.,  1.]])\n"
     ]
    }
   ],
   "source": [
    "print(a + b)  # == a.add(b)\n",
    "print(a - b)  # == a.sub(b) -копия; a.sub_(b) -inplace\n",
    "print(a * b)  # == a.mul(b)\n",
    "print(a / b)  # == a.div(b)"
   ]
  },
  {
   "cell_type": "code",
   "execution_count": 16,
   "metadata": {
    "ExecuteTime": {
     "end_time": "2021-06-09T12:09:54.047500Z",
     "start_time": "2021-06-09T12:09:54.034503Z"
    },
    "colab": {
     "base_uri": "https://localhost:8080/"
    },
    "id": "Bggr-3kdeD5g",
    "outputId": "d935bdbb-43cb-43cf-db32-ac611c1b4ffa"
   },
   "outputs": [
    {
     "data": {
      "text/plain": [
       "tensor([[False, False, False],\n",
       "        [False, False, False],\n",
       "        [ True,  True,  True]])"
      ]
     },
     "execution_count": 16,
     "metadata": {},
     "output_type": "execute_result"
    }
   ],
   "source": [
    "# сравнение тензоров\n",
    "a = torch.FloatTensor([[1, 2, 3], [10, 20, 30], [100, 200, 300]])\n",
    "b = torch.FloatTensor([[-1, -2, -3], [-10, -20, -30], [100, 200, 300]])\n",
    "a == b"
   ]
  },
  {
   "cell_type": "code",
   "execution_count": 17,
   "metadata": {
    "ExecuteTime": {
     "end_time": "2021-06-09T12:09:54.094510Z",
     "start_time": "2021-06-09T12:09:54.048510Z"
    },
    "colab": {
     "base_uri": "https://localhost:8080/"
    },
    "id": "P3NoWketeRFO",
    "outputId": "6239c001-a4a7-4c57-b0f5-6dfe717f40ca"
   },
   "outputs": [
    {
     "data": {
      "text/plain": [
       "tensor([[ 0.8415,  0.9093,  0.1411],\n",
       "        [-0.5440,  0.9129, -0.9880],\n",
       "        [-0.5064, -0.8733, -0.9998]])"
      ]
     },
     "execution_count": 17,
     "metadata": {},
     "output_type": "execute_result"
    }
   ],
   "source": [
    "# прочие мат операции\n",
    "a.sin()  # a.tan(), a.exp(), a.log(), a.abs()..."
   ]
  },
  {
   "cell_type": "code",
   "execution_count": 18,
   "metadata": {
    "ExecuteTime": {
     "end_time": "2021-06-09T12:09:54.109510Z",
     "start_time": "2021-06-09T12:09:54.095510Z"
    },
    "colab": {
     "base_uri": "https://localhost:8080/"
    },
    "id": "pS1Z-sguesMo",
    "outputId": "4c98984f-2d40-41a2-8687-ae78a054f4cd"
   },
   "outputs": [
    {
     "data": {
      "text/plain": [
       "tensor([[  1.,   2.,   3.],\n",
       "        [ 10.,  20.,  30.],\n",
       "        [100., 200., 300.]])"
      ]
     },
     "execution_count": 18,
     "metadata": {},
     "output_type": "execute_result"
    }
   ],
   "source": [
    "# функции агрегации\n",
    "a"
   ]
  },
  {
   "cell_type": "code",
   "execution_count": 19,
   "metadata": {
    "ExecuteTime": {
     "end_time": "2021-06-09T12:09:54.124510Z",
     "start_time": "2021-06-09T12:09:54.111502Z"
    },
    "colab": {
     "base_uri": "https://localhost:8080/"
    },
    "id": "x26_VOeAgRxj",
    "outputId": "6f7575a9-db3a-40e9-c44c-a95479bd5be8"
   },
   "outputs": [
    {
     "data": {
      "text/plain": [
       "tensor([  6.,  60., 600.])"
      ]
     },
     "execution_count": 19,
     "metadata": {},
     "output_type": "execute_result"
    }
   ],
   "source": [
    "a.sum(dim=1)  # суммируется строка"
   ]
  },
  {
   "cell_type": "code",
   "execution_count": 20,
   "metadata": {
    "ExecuteTime": {
     "end_time": "2021-06-09T12:09:54.140511Z",
     "start_time": "2021-06-09T12:09:54.125500Z"
    },
    "colab": {
     "base_uri": "https://localhost:8080/"
    },
    "id": "V-UnGvvxgX1C",
    "outputId": "7e7ed882-6644-4203-80c6-8ae578e507dd"
   },
   "outputs": [
    {
     "data": {
      "text/plain": [
       "tensor([111., 222., 333.])"
      ]
     },
     "execution_count": 20,
     "metadata": {},
     "output_type": "execute_result"
    }
   ],
   "source": [
    "a.sum(0)"
   ]
  },
  {
   "cell_type": "code",
   "execution_count": 21,
   "metadata": {
    "ExecuteTime": {
     "end_time": "2021-06-09T12:09:54.156513Z",
     "start_time": "2021-06-09T12:09:54.143498Z"
    },
    "colab": {
     "base_uri": "https://localhost:8080/"
    },
    "id": "55X6o0EAgpcs",
    "outputId": "60e786bb-1f75-4b47-ec80-4c87918a9e7f"
   },
   "outputs": [
    {
     "data": {
      "text/plain": [
       "tensor(300.)"
      ]
     },
     "execution_count": 21,
     "metadata": {},
     "output_type": "execute_result"
    }
   ],
   "source": [
    "a.max()  # по всему тензору // a.min()"
   ]
  },
  {
   "cell_type": "markdown",
   "metadata": {
    "id": "A2m4le71huce"
   },
   "source": [
    "## Матричные операции"
   ]
  },
  {
   "cell_type": "code",
   "execution_count": 22,
   "metadata": {
    "ExecuteTime": {
     "end_time": "2021-06-09T12:09:54.171498Z",
     "start_time": "2021-06-09T12:09:54.158501Z"
    },
    "colab": {
     "base_uri": "https://localhost:8080/"
    },
    "id": "qRzHFDI4g9fN",
    "outputId": "70a4a4ba-792e-431b-ce75-119f31a44d13"
   },
   "outputs": [
    {
     "data": {
      "text/plain": [
       "tensor([[  1.,  10., 100.],\n",
       "        [  2.,  20., 200.],\n",
       "        [  3.,  30., 300.]])"
      ]
     },
     "execution_count": 22,
     "metadata": {},
     "output_type": "execute_result"
    }
   ],
   "source": [
    "a.t()  # Transpose a tensor"
   ]
  },
  {
   "cell_type": "code",
   "execution_count": 23,
   "metadata": {
    "ExecuteTime": {
     "end_time": "2021-06-09T12:09:54.218511Z",
     "start_time": "2021-06-09T12:09:54.174500Z"
    },
    "colab": {
     "base_uri": "https://localhost:8080/"
    },
    "id": "acWfKT1wh5Qf",
    "outputId": "cbec62fd-4b49-4b9d-9bf6-35bbb60da7fc"
   },
   "outputs": [
    {
     "data": {
      "text/plain": [
       "tensor(-141.)"
      ]
     },
     "execution_count": 23,
     "metadata": {},
     "output_type": "execute_result"
    }
   ],
   "source": [
    "# векторное (скалярное) произведение\n",
    "a = torch.FloatTensor([1, 2, 3, 4, 5, 6])\n",
    "b = torch.FloatTensor([-1, -2, -4, -6, -8, -10])\n",
    "a.dot(b)"
   ]
  },
  {
   "cell_type": "code",
   "execution_count": 24,
   "metadata": {
    "ExecuteTime": {
     "end_time": "2021-06-09T12:09:54.234510Z",
     "start_time": "2021-06-09T12:09:54.220499Z"
    },
    "colab": {
     "base_uri": "https://localhost:8080/"
    },
    "id": "RNhP_dSriMi7",
    "outputId": "58fc37b9-e67f-415c-ecbf-c2e7bc682345"
   },
   "outputs": [
    {
     "data": {
      "text/plain": [
       "tensor(-141.)"
      ]
     },
     "execution_count": 24,
     "metadata": {},
     "output_type": "execute_result"
    }
   ],
   "source": [
    "a @ b  # = a.dot(b)"
   ]
  },
  {
   "cell_type": "code",
   "execution_count": 25,
   "metadata": {
    "ExecuteTime": {
     "end_time": "2021-06-09T12:09:54.249719Z",
     "start_time": "2021-06-09T12:09:54.236498Z"
    },
    "id": "88VddEwvmy8b"
   },
   "outputs": [],
   "source": [
    "# матричное произведение\n",
    "a = torch.FloatTensor([[1, 2, 3], [10, 20, 30], [100, 200, 300]])\n",
    "b = torch.FloatTensor([[-1, -2, -3], [-10, -20, -30], [100, 200, 300]])"
   ]
  },
  {
   "cell_type": "code",
   "execution_count": 26,
   "metadata": {
    "ExecuteTime": {
     "end_time": "2021-06-09T12:09:54.296498Z",
     "start_time": "2021-06-09T12:09:54.251500Z"
    },
    "colab": {
     "base_uri": "https://localhost:8080/"
    },
    "id": "Emq-dzM1m9eX",
    "outputId": "d418307a-69f5-48c3-80fe-11eb841646b4"
   },
   "outputs": [
    {
     "data": {
      "text/plain": [
       "tensor([[  279.,   558.,   837.],\n",
       "        [ 2790.,  5580.,  8370.],\n",
       "        [27900., 55800., 83700.]])"
      ]
     },
     "execution_count": 26,
     "metadata": {},
     "output_type": "execute_result"
    }
   ],
   "source": [
    "a.mm(b)  # = a @ b"
   ]
  },
  {
   "cell_type": "code",
   "execution_count": 27,
   "metadata": {
    "ExecuteTime": {
     "end_time": "2021-06-09T12:09:54.312499Z",
     "start_time": "2021-06-09T12:09:54.299501Z"
    },
    "id": "ahP1CpFOnjN4"
   },
   "outputs": [],
   "source": [
    "a = torch.FloatTensor([[1, 2, 3], [10, 20, 30], [100, 200, 300]])\n",
    "b = torch.FloatTensor([[-1], [-10], [100]])"
   ]
  },
  {
   "cell_type": "code",
   "execution_count": 28,
   "metadata": {
    "ExecuteTime": {
     "end_time": "2021-06-09T12:09:54.327511Z",
     "start_time": "2021-06-09T12:09:54.315501Z"
    },
    "colab": {
     "base_uri": "https://localhost:8080/"
    },
    "id": "fYl2WPxJnlvx",
    "outputId": "8449b198-0079-4da0-a608-79678b6a8980"
   },
   "outputs": [
    {
     "data": {
      "text/plain": [
       "tensor([[  279.],\n",
       "        [ 2790.],\n",
       "        [27900.]])"
      ]
     },
     "execution_count": 28,
     "metadata": {},
     "output_type": "execute_result"
    }
   ],
   "source": [
    "a @ b"
   ]
  },
  {
   "cell_type": "code",
   "execution_count": 29,
   "metadata": {
    "ExecuteTime": {
     "end_time": "2021-06-09T12:09:54.343511Z",
     "start_time": "2021-06-09T12:09:54.329513Z"
    },
    "colab": {
     "base_uri": "https://localhost:8080/"
    },
    "id": "OS0htlkjnrpt",
    "outputId": "847a7026-faf0-466c-ec89-b27648a1915d"
   },
   "outputs": [
    {
     "data": {
      "text/plain": [
       "(tensor([  279.,  2790., 27900.]), tensor([ -1., -10., 100.]))"
      ]
     },
     "execution_count": 29,
     "metadata": {},
     "output_type": "execute_result"
    }
   ],
   "source": [
    "# умножение матрицы на вектор\n",
    "a @ b.view(-1), b.view(-1)"
   ]
  },
  {
   "cell_type": "code",
   "execution_count": 30,
   "metadata": {
    "ExecuteTime": {
     "end_time": "2021-06-09T12:09:54.359189Z",
     "start_time": "2021-06-09T12:09:54.345499Z"
    },
    "colab": {
     "base_uri": "https://localhost:8080/"
    },
    "id": "W2klzhqooSxY",
    "outputId": "00180a68-5095-46bb-e203-19b92e8100b0"
   },
   "outputs": [
    {
     "data": {
      "text/plain": [
       "tensor([  279.,  2790., 27900.])"
      ]
     },
     "execution_count": 30,
     "metadata": {},
     "output_type": "execute_result"
    }
   ],
   "source": [
    "a.mv(b.view(-1))"
   ]
  },
  {
   "cell_type": "markdown",
   "metadata": {
    "id": "YpTLAvfOog2z"
   },
   "source": [
    "## NUMPY <--> PYTORCH"
   ]
  },
  {
   "cell_type": "code",
   "execution_count": 31,
   "metadata": {
    "ExecuteTime": {
     "end_time": "2021-06-09T12:09:54.390174Z",
     "start_time": "2021-06-09T12:09:54.361174Z"
    },
    "colab": {
     "base_uri": "https://localhost:8080/"
    },
    "id": "VZHW1ev5oq-d",
    "outputId": "56993b72-b0b4-42a3-e9af-45f0dfcf072f"
   },
   "outputs": [
    {
     "data": {
      "text/plain": [
       "(array([[0.96505741, 0.75624687, 0.40913288],\n",
       "        [0.96734235, 0.81378323, 0.84521941],\n",
       "        [0.29674017, 0.71722953, 0.87839594]]),\n",
       " numpy.ndarray)"
      ]
     },
     "execution_count": 31,
     "metadata": {},
     "output_type": "execute_result"
    }
   ],
   "source": [
    "a = np.random.rand(3, 3)\n",
    "a, type(a)"
   ]
  },
  {
   "cell_type": "code",
   "execution_count": 32,
   "metadata": {
    "ExecuteTime": {
     "end_time": "2021-06-09T12:09:54.405175Z",
     "start_time": "2021-06-09T12:09:54.392173Z"
    },
    "colab": {
     "base_uri": "https://localhost:8080/"
    },
    "id": "w2DegHZgo4vz",
    "outputId": "6ff06a76-1a01-42d7-d5a7-ba10aceb80d9"
   },
   "outputs": [
    {
     "data": {
      "text/plain": [
       "tensor([[0.9651, 0.7562, 0.4091],\n",
       "        [0.9673, 0.8138, 0.8452],\n",
       "        [0.2967, 0.7172, 0.8784]], dtype=torch.float64)"
      ]
     },
     "execution_count": 32,
     "metadata": {},
     "output_type": "execute_result"
    }
   ],
   "source": [
    "# numpy->pytorch\n",
    "# используют одну и ту же память - если изменить а, то изменится и b\n",
    "b = torch.from_numpy(a)\n",
    "b"
   ]
  },
  {
   "cell_type": "code",
   "execution_count": 36,
   "metadata": {
    "ExecuteTime": {
     "end_time": "2021-06-09T12:11:09.894580Z",
     "start_time": "2021-06-09T12:11:09.888580Z"
    },
    "colab": {
     "base_uri": "https://localhost:8080/"
    },
    "id": "iHhYYddRpNqr",
    "outputId": "1d70deb5-e432-472b-e063-4cb3a464d05e"
   },
   "outputs": [
    {
     "data": {
      "text/plain": [
       "tensor([[[0.0000e+00, 4.4842e-44, 7.7052e+31, 7.2148e+22],\n",
       "         [2.5226e-18, 2.5930e-09, 1.0356e-11, 3.0883e-09],\n",
       "         [6.4475e-10, 4.2107e-11, 4.2961e-05, 2.9574e-18]],\n",
       "\n",
       "        [[6.7333e+22, 1.7591e+22, 1.7184e+25, 4.3222e+27],\n",
       "         [6.1972e-04, 7.2443e+22, 1.7728e+28, 7.0367e+22],\n",
       "         [1.5109e-07, 2.0662e+20, 1.2858e-11, 1.3293e-08]]])"
      ]
     },
     "execution_count": 36,
     "metadata": {},
     "output_type": "execute_result"
    }
   ],
   "source": [
    "a = torch.FloatTensor(2, 3, 4)\n",
    "a, type(a)"
   ]
  },
  {
   "cell_type": "code",
   "execution_count": 34,
   "metadata": {
    "ExecuteTime": {
     "end_time": "2021-06-09T12:09:54.437006Z",
     "start_time": "2021-06-09T12:09:54.423183Z"
    },
    "colab": {
     "base_uri": "https://localhost:8080/"
    },
    "id": "3_8D13BppVhv",
    "outputId": "df97ace7-c3f0-44c9-e25a-74e6970800ad"
   },
   "outputs": [
    {
     "data": {
      "text/plain": [
       "(array([[[1.68063474e-04, 4.09745363e-11, 2.59349231e-09, 2.95716221e-18],\n",
       "         [6.73331199e+22, 1.75905377e+22, 1.71842178e+25, 4.32216629e+27],\n",
       "         [6.19715371e-04, 7.24431922e+22, 1.77283446e+28, 7.03667221e+22]],\n",
       " \n",
       "        [[1.51085743e-07, 2.06617146e+20, 1.28579855e-11, 1.32934481e-08],\n",
       "         [1.07802807e-08, 3.29130190e-09, 1.03242664e-05, 5.34807905e+22],\n",
       "         [2.58121347e-09, 3.05218913e-18, 7.70520767e+31, 1.94469173e+31]]],\n",
       "       dtype=float32),\n",
       " numpy.ndarray)"
      ]
     },
     "execution_count": 34,
     "metadata": {},
     "output_type": "execute_result"
    }
   ],
   "source": [
    "x = a.numpy()\n",
    "x, type(x)"
   ]
  },
  {
   "cell_type": "code",
   "execution_count": 35,
   "metadata": {
    "ExecuteTime": {
     "end_time": "2021-06-09T12:09:54.453002Z",
     "start_time": "2021-06-09T12:09:54.438991Z"
    },
    "colab": {
     "base_uri": "https://localhost:8080/"
    },
    "id": "iWT2Oe0LpoW3",
    "outputId": "204aaa18-8f44-4a76-ba12-e0ffeb3e15bd"
   },
   "outputs": [
    {
     "data": {
      "text/plain": [
       "(tensor([[[0., 0., 0., 0.],\n",
       "          [0., 0., 0., 0.],\n",
       "          [0., 0., 0., 0.]],\n",
       " \n",
       "         [[0., 0., 0., 0.],\n",
       "          [0., 0., 0., 0.],\n",
       "          [0., 0., 0., 0.]]]),\n",
       " array([[[0., 0., 0., 0.],\n",
       "         [0., 0., 0., 0.],\n",
       "         [0., 0., 0., 0.]],\n",
       " \n",
       "        [[0., 0., 0., 0.],\n",
       "         [0., 0., 0., 0.],\n",
       "         [0., 0., 0., 0.]]], dtype=float32))"
      ]
     },
     "execution_count": 35,
     "metadata": {},
     "output_type": "execute_result"
    }
   ],
   "source": [
    "a.zero_()\n",
    "a, x"
   ]
  }
 ],
 "metadata": {
  "colab": {
   "name": "torch_1.ipynb",
   "provenance": []
  },
  "kernelspec": {
   "display_name": "Python 3",
   "language": "python",
   "name": "python3"
  },
  "language_info": {
   "codemirror_mode": {
    "name": "ipython",
    "version": 3
   },
   "file_extension": ".py",
   "mimetype": "text/x-python",
   "name": "python",
   "nbconvert_exporter": "python",
   "pygments_lexer": "ipython3",
   "version": "3.8.5"
  },
  "toc": {
   "base_numbering": 1,
   "nav_menu": {},
   "number_sections": true,
   "sideBar": true,
   "skip_h1_title": false,
   "title_cell": "Table of Contents",
   "title_sidebar": "Contents",
   "toc_cell": false,
   "toc_position": {},
   "toc_section_display": true,
   "toc_window_display": false
  }
 },
 "nbformat": 4,
 "nbformat_minor": 1
}
