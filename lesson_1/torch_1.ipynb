{
 "cells": [
  {
   "cell_type": "markdown",
   "metadata": {},
   "source": [
    "# BASE OPERATIONS"
   ]
  },
  {
   "cell_type": "code",
   "execution_count": 1,
   "metadata": {
    "ExecuteTime": {
     "end_time": "2021-10-11T11:17:08.236890Z",
     "start_time": "2021-10-11T11:17:07.449873Z"
    },
    "id": "wl6gS1ACtg2h"
   },
   "outputs": [],
   "source": [
    "import torch\n",
    "import numpy as np"
   ]
  },
  {
   "cell_type": "markdown",
   "metadata": {},
   "source": [
    "*************************"
   ]
  },
  {
   "cell_type": "code",
   "execution_count": 2,
   "metadata": {
    "ExecuteTime": {
     "end_time": "2021-10-11T11:17:08.251882Z",
     "start_time": "2021-10-11T11:17:08.238883Z"
    }
   },
   "outputs": [
    {
     "name": "stdout",
     "output_type": "stream",
     "text": [
      "tensor([[[-1.0565e+02,  6.2498e-43, -4.0765e-38,  2.6064e-43,  0.0000e+00],\n",
      "         [ 0.0000e+00,  2.1019e-44,  0.0000e+00, -1.0568e+02,  6.2498e-43],\n",
      "         [-4.0765e-38,  2.6064e-43,  0.0000e+00,  0.0000e+00,  2.1019e-44],\n",
      "         [ 0.0000e+00, -1.0993e+02,  6.2498e-43, -4.0765e-38,  2.6064e-43]],\n",
      "\n",
      "        [[ 0.0000e+00,  0.0000e+00,  2.1019e-44,  0.0000e+00, -1.0085e+02],\n",
      "         [ 6.2498e-43, -4.0765e-38,  2.6064e-43,  0.0000e+00,  0.0000e+00],\n",
      "         [ 2.1019e-44,  0.0000e+00, -1.2482e-01,  6.2498e-43, -4.0765e-38],\n",
      "         [ 2.6064e-43,  0.0000e+00,  0.0000e+00,  2.1019e-44,  0.0000e+00]],\n",
      "\n",
      "        [[-9.7965e+01,  6.2498e-43, -4.0765e-38,  2.6064e-43,  0.0000e+00],\n",
      "         [ 0.0000e+00,  2.1019e-44,  0.0000e+00, -3.3896e+01,  6.2498e-43],\n",
      "         [-4.0765e-38,  2.6064e-43,  0.0000e+00,  0.0000e+00,  2.1019e-44],\n",
      "         [ 0.0000e+00, -9.7664e+01,  6.2498e-43, -4.0765e-38,  2.6064e-43]]])\n"
     ]
    }
   ],
   "source": [
    "# Создайте случайный FloatTensor размера 3x4x5\n",
    "x = torch.FloatTensor(3, 4, 5)\n",
    "print(x)"
   ]
  },
  {
   "cell_type": "code",
   "execution_count": 3,
   "metadata": {
    "ExecuteTime": {
     "end_time": "2021-10-11T11:17:08.267882Z",
     "start_time": "2021-10-11T11:17:08.253872Z"
    }
   },
   "outputs": [
    {
     "data": {
      "text/plain": [
       "(torch.Size([3, 4, 5]), torch.Size([3, 4, 5]))"
      ]
     },
     "execution_count": 3,
     "metadata": {},
     "output_type": "execute_result"
    }
   ],
   "source": [
    "# Выведите его форму (shape)\n",
    "x.shape, x.size()"
   ]
  },
  {
   "cell_type": "code",
   "execution_count": 4,
   "metadata": {
    "ExecuteTime": {
     "end_time": "2021-10-11T11:17:08.283890Z",
     "start_time": "2021-10-11T11:17:08.269872Z"
    }
   },
   "outputs": [
    {
     "data": {
      "text/plain": [
       "tensor([[[-1.0565e+02,  2.4999e-42, -8.1530e-38,  5.2128e-43,  0.0000e+00],\n",
       "         [ 0.0000e+00,  8.4078e-44,  0.0000e+00, -2.1136e+02,  6.2498e-43],\n",
       "         [-4.0765e-38,  1.0426e-42,  0.0000e+00,  0.0000e+00,  2.1019e-44],\n",
       "         [ 0.0000e+00, -4.3971e+02,  1.2500e-42, -8.1530e-38,  2.6064e-43]],\n",
       "\n",
       "        [[ 0.0000e+00,  0.0000e+00,  4.2039e-44,  0.0000e+00, -1.0085e+02],\n",
       "         [ 6.2498e-43, -1.6306e-37,  5.2128e-43,  0.0000e+00,  0.0000e+00],\n",
       "         [ 2.1019e-44,  0.0000e+00, -2.4964e-01,  1.2500e-42, -4.0765e-38],\n",
       "         [ 2.6064e-43,  0.0000e+00,  0.0000e+00,  4.2039e-44,  0.0000e+00]],\n",
       "\n",
       "        [[-9.7965e+01,  2.4999e-42, -8.1530e-38,  5.2128e-43,  0.0000e+00],\n",
       "         [ 0.0000e+00,  8.4078e-44,  0.0000e+00, -6.7791e+01,  6.2498e-43],\n",
       "         [-4.0765e-38,  1.0426e-42,  0.0000e+00,  0.0000e+00,  2.1019e-44],\n",
       "         [ 0.0000e+00, -3.9066e+02,  1.2500e-42, -8.1530e-38,  2.6064e-43]]])"
      ]
     },
     "execution_count": 4,
     "metadata": {},
     "output_type": "execute_result"
    }
   ],
   "source": [
    "# Умножьте его на вектор [1, 4, 2, 2, 1] поэлементно\n",
    "b = torch.CharTensor([1, 4, 2, 2, 1])\n",
    "x * b"
   ]
  },
  {
   "cell_type": "code",
   "execution_count": 5,
   "metadata": {
    "ExecuteTime": {
     "end_time": "2021-10-11T11:17:08.299871Z",
     "start_time": "2021-10-11T11:17:08.285875Z"
    }
   },
   "outputs": [],
   "source": [
    "# Приведите его к форме 6 X 10\n",
    "x = x.view(6, 10)"
   ]
  },
  {
   "cell_type": "code",
   "execution_count": 6,
   "metadata": {
    "ExecuteTime": {
     "end_time": "2021-10-11T11:17:08.315882Z",
     "start_time": "2021-10-11T11:17:08.301871Z"
    }
   },
   "outputs": [
    {
     "data": {
      "text/plain": [
       "torch.Size([6, 6])"
      ]
     },
     "execution_count": 6,
     "metadata": {},
     "output_type": "execute_result"
    }
   ],
   "source": [
    "# Умножьте тензор матрично на себя, чтобы результат был размерности 6x6\n",
    "z = x.mm(x.T)\n",
    "z.size()"
   ]
  },
  {
   "cell_type": "code",
   "execution_count": 7,
   "metadata": {
    "ExecuteTime": {
     "end_time": "2021-10-11T11:17:08.363885Z",
     "start_time": "2021-10-11T11:17:08.318869Z"
    }
   },
   "outputs": [
    {
     "name": "stdout",
     "output_type": "stream",
     "text": [
      "tensor([3.]) tensor([1.]) tensor([-75.])\n",
      "tensor([-71.])\n"
     ]
    }
   ],
   "source": [
    "# Посчитайте производную функции y = x**3 + z - 75t в точке (1, 0.5, 2)\n",
    "\n",
    "from torch.autograd import Variable\n",
    "\n",
    "x = Variable(torch.FloatTensor([1]), requires_grad=True)\n",
    "z = Variable(torch.FloatTensor([0.5]), requires_grad=True)\n",
    "t = Variable(torch.FloatTensor([2]), requires_grad=True)\n",
    "\n",
    "y = x**3 + z - 75*t\n",
    "y.backward()\n",
    "print(x.grad, z.grad, t.grad)\n",
    "print(x.grad + z.grad+ t.grad)"
   ]
  },
  {
   "cell_type": "code",
   "execution_count": 8,
   "metadata": {
    "ExecuteTime": {
     "end_time": "2021-10-11T11:17:08.379872Z",
     "start_time": "2021-10-11T11:17:08.365872Z"
    }
   },
   "outputs": [
    {
     "data": {
      "text/plain": [
       "tensor([[1., 1., 1., 1., 1., 1.],\n",
       "        [1., 1., 1., 1., 1., 1.],\n",
       "        [1., 1., 1., 1., 1., 1.],\n",
       "        [1., 1., 1., 1., 1., 1.],\n",
       "        [1., 1., 1., 1., 1., 1.]])"
      ]
     },
     "execution_count": 8,
     "metadata": {},
     "output_type": "execute_result"
    }
   ],
   "source": [
    "# Создайте единичный тензор размера 5x6\n",
    "x = torch.ones(5, 6)\n",
    "x"
   ]
  },
  {
   "cell_type": "code",
   "execution_count": 9,
   "metadata": {
    "ExecuteTime": {
     "end_time": "2021-10-11T11:17:08.395885Z",
     "start_time": "2021-10-11T11:17:08.382872Z"
    }
   },
   "outputs": [
    {
     "data": {
      "text/plain": [
       "(array([[1., 1., 1., 1., 1., 1.],\n",
       "        [1., 1., 1., 1., 1., 1.],\n",
       "        [1., 1., 1., 1., 1., 1.],\n",
       "        [1., 1., 1., 1., 1., 1.],\n",
       "        [1., 1., 1., 1., 1., 1.]], dtype=float32),\n",
       " numpy.ndarray)"
      ]
     },
     "execution_count": 9,
     "metadata": {},
     "output_type": "execute_result"
    }
   ],
   "source": [
    "# Переведите его в формат numpy\n",
    "x = x.numpy()\n",
    "x, type(x)"
   ]
  },
  {
   "cell_type": "markdown",
   "metadata": {
    "ExecuteTime": {
     "end_time": "2021-06-09T12:09:53.449204Z",
     "start_time": "2021-06-09T12:09:53.435215Z"
    },
    "colab": {
     "base_uri": "https://localhost:8080/"
    },
    "id": "Tj2VbmMUvJrq",
    "outputId": "38c37514-3431-4e8d-fa05-60fc1a9ddc3b"
   },
   "source": [
    "## тензоры pytorch\n",
    "\n",
    "* **torch.HalfTensor** = 16 бит, floating point\n",
    "* **torch.FloatTensor**  = 32 бита, floating point\n",
    "* **torch.DoubleTensor**  =    64 бита, floating point\n",
    "* **torch.ShortTensor**    =   16 бит, integer, signed\n",
    "* **torch.IntTensor**      =   32 бита, integer, signed\n",
    "* **torch.LongTensor**   =      64 бита, integer, signed\n",
    "\n",
    "* **torch.CharTensor**    =  8 бит, integer, signed\n",
    "* **torch.ByteTensor**     = 8 бит, integer, unsigned"
   ]
  },
  {
   "cell_type": "code",
   "execution_count": 10,
   "metadata": {
    "ExecuteTime": {
     "end_time": "2021-10-11T11:17:08.411885Z",
     "start_time": "2021-10-11T11:17:08.397871Z"
    },
    "colab": {
     "base_uri": "https://localhost:8080/"
    },
    "id": "TVNBpvv-vL1m",
    "outputId": "6457ca0b-e92d-4812-eabb-28c969a72cbf"
   },
   "outputs": [
    {
     "name": "stdout",
     "output_type": "stream",
     "text": [
      "tensor([1., 2.]) torch.Size([2])\n",
      "tensor([[1., 2., 3.],\n",
      "        [4., 5., 6.]]) torch.Size([2, 3])\n"
     ]
    }
   ],
   "source": [
    "# Создание тензора\n",
    "a = torch.FloatTensor([1, 2])\n",
    "b = torch.FloatTensor([[1, 2, 3], [4, 5, 6]])\n",
    "\n",
    "print(a, a.shape)\n",
    "print(b, b.shape)"
   ]
  },
  {
   "cell_type": "code",
   "execution_count": 11,
   "metadata": {
    "ExecuteTime": {
     "end_time": "2021-10-11T11:17:08.427885Z",
     "start_time": "2021-10-11T11:17:08.413873Z"
    },
    "colab": {
     "base_uri": "https://localhost:8080/"
    },
    "id": "I9Ag1twdyhWg",
    "outputId": "998a478d-da2a-47e1-83fe-c6ff7ac47af4"
   },
   "outputs": [
    {
     "name": "stdout",
     "output_type": "stream",
     "text": [
      "tensor([[[1.0564e-05, 4.1880e-11, 4.3684e-05, 2.9571e-18],\n",
      "         [6.7333e+22, 1.7591e+22, 1.7184e+25, 4.3222e+27],\n",
      "         [6.1972e-04, 7.2443e+22, 1.7728e+28, 7.0367e+22]],\n",
      "\n",
      "        [[9.6695e-06, 8.3101e+20, 1.3028e-11, 1.7186e-04],\n",
      "         [1.0489e-08, 8.1919e-10, 1.9968e+20, 1.1038e-05],\n",
      "         [3.3209e-09, 3.1199e-18, 7.7052e+31, 1.9447e+31]]]) torch.Size([2, 3, 4])\n"
     ]
    }
   ],
   "source": [
    "# создание тензора по размерам (заполнен случайными величинами (мусором))\n",
    "x = torch.FloatTensor(2, 3, 4)\n",
    "print(x, x.shape)"
   ]
  },
  {
   "cell_type": "code",
   "execution_count": 12,
   "metadata": {
    "ExecuteTime": {
     "end_time": "2021-10-11T11:17:08.443885Z",
     "start_time": "2021-10-11T11:17:08.429872Z"
    },
    "colab": {
     "base_uri": "https://localhost:8080/"
    },
    "id": "jWGLJ7sYza9i",
    "outputId": "94f131dd-3cba-4631-90d9-23a2a37b7232"
   },
   "outputs": [
    {
     "name": "stdout",
     "output_type": "stream",
     "text": [
      "tensor([[[0, 0, 0, 0],\n",
      "         [0, 0, 0, 0],\n",
      "         [0, 0, 0, 0]],\n",
      "\n",
      "        [[0, 0, 0, 0],\n",
      "         [0, 0, 0, 0],\n",
      "         [0, 0, 0, 0]],\n",
      "\n",
      "        [[0, 0, 0, 0],\n",
      "         [0, 0, 0, 0],\n",
      "         [0, 0, 0, 0]]], dtype=torch.int32) torch.Size([3, 3, 4])\n"
     ]
    }
   ],
   "source": [
    "x = torch.IntTensor(3, 3, 4)\n",
    "print(x, x.shape)"
   ]
  },
  {
   "cell_type": "code",
   "execution_count": 13,
   "metadata": {
    "ExecuteTime": {
     "end_time": "2021-10-11T11:17:08.459888Z",
     "start_time": "2021-10-11T11:17:08.445874Z"
    },
    "colab": {
     "base_uri": "https://localhost:8080/"
    },
    "id": "Gol60TCe1MyP",
    "outputId": "f0f85f0a-f046-4a00-a7de-5e63d3975b5e"
   },
   "outputs": [
    {
     "data": {
      "text/plain": [
       "tensor([[[0., 0., 0., 0.],\n",
       "         [0., 0., 0., 0.]],\n",
       "\n",
       "        [[0., 0., 0., 0.],\n",
       "         [0., 0., 0., 0.]],\n",
       "\n",
       "        [[0., 0., 0., 0.],\n",
       "         [0., 0., 0., 0.]]])"
      ]
     },
     "execution_count": 13,
     "metadata": {},
     "output_type": "execute_result"
    }
   ],
   "source": [
    "# заполнение 0\n",
    "x1 = torch.FloatTensor(3, 2, 4)\n",
    "x1.zero_()\n",
    "x2 = torch.zeros(3, 2, 4)\n",
    "x3 = torch.zeros_like(x1)\n",
    "\n",
    "assert torch.allclose(x1, x2) and torch.allclose(x1, x3)\n",
    "x1"
   ]
  },
  {
   "cell_type": "code",
   "execution_count": 14,
   "metadata": {
    "ExecuteTime": {
     "end_time": "2021-10-11T11:17:08.475883Z",
     "start_time": "2021-10-11T11:17:08.461871Z"
    },
    "colab": {
     "base_uri": "https://localhost:8080/"
    },
    "id": "Sjb5rNd_2Eug",
    "outputId": "fc3f01c3-dec6-450b-918a-c532374c705f"
   },
   "outputs": [
    {
     "name": "stdout",
     "output_type": "stream",
     "text": [
      "Стандартное Нормальное распределение: \n",
      "tensor([[-0.0492, -1.2892,  0.0702],\n",
      "        [ 1.6328, -2.2271, -0.5642]])\n",
      "Дискретное распределение: \n",
      "tensor([[2., 7., 1.],\n",
      "        [8., 0., 4.]])\n",
      "Равномерное распределение: \n",
      "tensor([[0.0054, 0.1482, 0.5353],\n",
      "        [0.1505, 0.2355, 0.8935]])\n",
      "Нормальное распределение: \n",
      "tensor([[-0.4856, -0.5720, -1.2620],\n",
      "        [ 0.2153,  0.5650,  0.7954]])\n",
      "Распределение Бернулли: \n",
      "tensor([[0., 1., 0.],\n",
      "        [0., 1., 1.]])\n"
     ]
    }
   ],
   "source": [
    "# случайные распределения\n",
    "\n",
    "x = torch.randn((2, 3))\n",
    "print('Стандартное Нормальное распределение: ', x, sep='\\n')\n",
    "x.random_(0, 10)\n",
    "print('Дискретное распределение: ', x, sep='\\n')\n",
    "x.uniform_(0, 1)\n",
    "print('Равномерное распределение: ', x, sep='\\n')\n",
    "x.normal_(mean=0, std=1)\n",
    "print('Нормальное распределение: ', x, sep='\\n')\n",
    "x.bernoulli_(p=0.5)\n",
    "print('Распределение Бернулли: ', x, sep='\\n')"
   ]
  },
  {
   "cell_type": "code",
   "execution_count": 15,
   "metadata": {
    "ExecuteTime": {
     "end_time": "2021-10-11T11:17:08.491870Z",
     "start_time": "2021-10-11T11:17:08.476885Z"
    },
    "colab": {
     "base_uri": "https://localhost:8080/"
    },
    "id": "olDhS1WZ4d5n",
    "outputId": "7a8e1b09-cf24-43b5-8033-4adcdbb98897"
   },
   "outputs": [
    {
     "data": {
      "text/plain": [
       "(tensor([[1., 2., 3.],\n",
       "         [4., 5., 6.]]),\n",
       " (3, 1))"
      ]
     },
     "execution_count": 15,
     "metadata": {},
     "output_type": "execute_result"
    }
   ],
   "source": [
    "# изменение размерностей view = np.reshape\n",
    "b, b.stride()"
   ]
  },
  {
   "cell_type": "code",
   "execution_count": 16,
   "metadata": {
    "ExecuteTime": {
     "end_time": "2021-10-11T11:17:08.507870Z",
     "start_time": "2021-10-11T11:17:08.493872Z"
    },
    "colab": {
     "base_uri": "https://localhost:8080/"
    },
    "id": "OmNW_hfo6Cpm",
    "outputId": "476148f6-b3e7-450c-f9a3-d440eb109b54"
   },
   "outputs": [
    {
     "data": {
      "text/plain": [
       "(tensor([[1., 2.],\n",
       "         [3., 4.],\n",
       "         [5., 6.]]),\n",
       " (2, 1))"
      ]
     },
     "execution_count": 16,
     "metadata": {},
     "output_type": "execute_result"
    }
   ],
   "source": [
    "b.view(3, 2), b.view(3, 2).stride()"
   ]
  },
  {
   "cell_type": "code",
   "execution_count": 17,
   "metadata": {
    "ExecuteTime": {
     "end_time": "2021-10-11T11:17:08.523883Z",
     "start_time": "2021-10-11T11:17:08.509874Z"
    },
    "colab": {
     "base_uri": "https://localhost:8080/"
    },
    "id": "Dsf1Us3J6NyD",
    "outputId": "35ad779e-f48b-4cb4-b372-afe6cb6f13b2"
   },
   "outputs": [
    {
     "data": {
      "text/plain": [
       "(tensor([1., 2., 3., 4., 5., 6.]),\n",
       " tensor([[1., 2., 3.],\n",
       "         [4., 5., 6.]]))"
      ]
     },
     "execution_count": 17,
     "metadata": {},
     "output_type": "execute_result"
    }
   ],
   "source": [
    "b.view(-1), b  # не изменяет исходный тензор"
   ]
  },
  {
   "cell_type": "code",
   "execution_count": 18,
   "metadata": {
    "ExecuteTime": {
     "end_time": "2021-10-11T11:17:08.539874Z",
     "start_time": "2021-10-11T11:17:08.525869Z"
    },
    "colab": {
     "base_uri": "https://localhost:8080/"
    },
    "id": "xjeN0A-N6_CS",
    "outputId": "7920cc02-3e30-4736-abe7-1840ae047625"
   },
   "outputs": [
    {
     "data": {
      "text/plain": [
       "tensor([1., 2., 3., 4., 5., 6.])"
      ]
     },
     "execution_count": 18,
     "metadata": {},
     "output_type": "execute_result"
    }
   ],
   "source": [
    "b.reshape(-1)  # упорядоченная в памяти копия"
   ]
  },
  {
   "cell_type": "code",
   "execution_count": 19,
   "metadata": {
    "ExecuteTime": {
     "end_time": "2021-10-11T11:17:08.554874Z",
     "start_time": "2021-10-11T11:17:08.540871Z"
    },
    "colab": {
     "base_uri": "https://localhost:8080/"
    },
    "id": "DrBSluEW9MJk",
    "outputId": "fbab7311-767e-4885-a97f-b15c8a28e1e3"
   },
   "outputs": [
    {
     "data": {
      "text/plain": [
       "tensor([ 1,  3, -7], dtype=torch.int32)"
      ]
     },
     "execution_count": 19,
     "metadata": {},
     "output_type": "execute_result"
    }
   ],
   "source": [
    "# изменение типа тензоров\n",
    "# type_as не изменяет сходный тензор!\n",
    "a = torch.FloatTensor([1.5, 3.2, -7])\n",
    "a.type_as(torch.IntTensor())"
   ]
  },
  {
   "cell_type": "code",
   "execution_count": 20,
   "metadata": {
    "ExecuteTime": {
     "end_time": "2021-10-11T11:17:08.570869Z",
     "start_time": "2021-10-11T11:17:08.556871Z"
    },
    "colab": {
     "base_uri": "https://localhost:8080/"
    },
    "id": "F23g3_tS9bB6",
    "outputId": "00b7d3e3-8d32-4bae-d402-e67c496cbc20"
   },
   "outputs": [
    {
     "data": {
      "text/plain": [
       "(tensor([ 1,  3, -7], dtype=torch.int32),\n",
       " tensor([  1,   3, 249], dtype=torch.uint8))"
      ]
     },
     "execution_count": 20,
     "metadata": {},
     "output_type": "execute_result"
    }
   ],
   "source": [
    "a.to(torch.int32), a.to(torch.uint8)"
   ]
  },
  {
   "cell_type": "code",
   "execution_count": 21,
   "metadata": {
    "ExecuteTime": {
     "end_time": "2021-10-11T11:17:08.585886Z",
     "start_time": "2021-10-11T11:17:08.572876Z"
    },
    "id": "CTWmtKKe_maN"
   },
   "outputs": [],
   "source": [
    "# арифметические операции\n",
    "a = torch.FloatTensor([[1, 2, 3], [10, 20, 30], [100, 200, 300]])\n",
    "b = torch.FloatTensor([[-1, -2, -3], [-10, -20, -30], [100, 200, 300]])"
   ]
  },
  {
   "cell_type": "code",
   "execution_count": 22,
   "metadata": {
    "ExecuteTime": {
     "end_time": "2021-10-11T11:17:08.601870Z",
     "start_time": "2021-10-11T11:17:08.589876Z"
    },
    "colab": {
     "base_uri": "https://localhost:8080/"
    },
    "id": "kYXdmokQAm3y",
    "outputId": "d31bf729-bbac-4d3a-d786-448b7f513aff"
   },
   "outputs": [
    {
     "name": "stdout",
     "output_type": "stream",
     "text": [
      "tensor([[  0.,   0.,   0.],\n",
      "        [  0.,   0.,   0.],\n",
      "        [200., 400., 600.]])\n",
      "tensor([[ 2.,  4.,  6.],\n",
      "        [20., 40., 60.],\n",
      "        [ 0.,  0.,  0.]])\n",
      "tensor([[-1.0000e+00, -4.0000e+00, -9.0000e+00],\n",
      "        [-1.0000e+02, -4.0000e+02, -9.0000e+02],\n",
      "        [ 1.0000e+04,  4.0000e+04,  9.0000e+04]])\n",
      "tensor([[-1., -1., -1.],\n",
      "        [-1., -1., -1.],\n",
      "        [ 1.,  1.,  1.]])\n"
     ]
    }
   ],
   "source": [
    "print(a + b)  # == a.add(b)\n",
    "print(a - b)  # == a.sub(b) -копия; a.sub_(b) -inplace\n",
    "print(a * b)  # == a.mul(b)\n",
    "print(a / b)  # == a.div(b)"
   ]
  },
  {
   "cell_type": "code",
   "execution_count": 23,
   "metadata": {
    "ExecuteTime": {
     "end_time": "2021-10-11T11:17:08.617885Z",
     "start_time": "2021-10-11T11:17:08.603872Z"
    },
    "colab": {
     "base_uri": "https://localhost:8080/"
    },
    "id": "Bggr-3kdeD5g",
    "outputId": "d935bdbb-43cb-43cf-db32-ac611c1b4ffa"
   },
   "outputs": [
    {
     "data": {
      "text/plain": [
       "tensor([[False, False, False],\n",
       "        [False, False, False],\n",
       "        [ True,  True,  True]])"
      ]
     },
     "execution_count": 23,
     "metadata": {},
     "output_type": "execute_result"
    }
   ],
   "source": [
    "# сравнение тензоров\n",
    "a = torch.FloatTensor([[1, 2, 3], [10, 20, 30], [100, 200, 300]])\n",
    "b = torch.FloatTensor([[-1, -2, -3], [-10, -20, -30], [100, 200, 300]])\n",
    "a == b"
   ]
  },
  {
   "cell_type": "code",
   "execution_count": 24,
   "metadata": {
    "ExecuteTime": {
     "end_time": "2021-10-11T11:17:08.633883Z",
     "start_time": "2021-10-11T11:17:08.619872Z"
    },
    "colab": {
     "base_uri": "https://localhost:8080/"
    },
    "id": "P3NoWketeRFO",
    "outputId": "6239c001-a4a7-4c57-b0f5-6dfe717f40ca"
   },
   "outputs": [
    {
     "data": {
      "text/plain": [
       "tensor([[ 0.8415,  0.9093,  0.1411],\n",
       "        [-0.5440,  0.9129, -0.9880],\n",
       "        [-0.5064, -0.8733, -0.9998]])"
      ]
     },
     "execution_count": 24,
     "metadata": {},
     "output_type": "execute_result"
    }
   ],
   "source": [
    "# прочие мат операции\n",
    "a.sin()  # a.tan(), a.exp(), a.log(), a.abs()..."
   ]
  },
  {
   "cell_type": "code",
   "execution_count": 25,
   "metadata": {
    "ExecuteTime": {
     "end_time": "2021-10-11T11:17:08.649886Z",
     "start_time": "2021-10-11T11:17:08.635871Z"
    },
    "colab": {
     "base_uri": "https://localhost:8080/"
    },
    "id": "pS1Z-sguesMo",
    "outputId": "4c98984f-2d40-41a2-8687-ae78a054f4cd"
   },
   "outputs": [
    {
     "data": {
      "text/plain": [
       "tensor([[  1.,   2.,   3.],\n",
       "        [ 10.,  20.,  30.],\n",
       "        [100., 200., 300.]])"
      ]
     },
     "execution_count": 25,
     "metadata": {},
     "output_type": "execute_result"
    }
   ],
   "source": [
    "# функции агрегации\n",
    "a"
   ]
  },
  {
   "cell_type": "code",
   "execution_count": 26,
   "metadata": {
    "ExecuteTime": {
     "end_time": "2021-10-11T11:17:08.665884Z",
     "start_time": "2021-10-11T11:17:08.651873Z"
    },
    "colab": {
     "base_uri": "https://localhost:8080/"
    },
    "id": "x26_VOeAgRxj",
    "outputId": "6f7575a9-db3a-40e9-c44c-a95479bd5be8"
   },
   "outputs": [
    {
     "data": {
      "text/plain": [
       "tensor([  6.,  60., 600.])"
      ]
     },
     "execution_count": 26,
     "metadata": {},
     "output_type": "execute_result"
    }
   ],
   "source": [
    "a.sum(dim=1)  # суммируется строка"
   ]
  },
  {
   "cell_type": "code",
   "execution_count": 27,
   "metadata": {
    "ExecuteTime": {
     "end_time": "2021-10-11T11:17:08.681886Z",
     "start_time": "2021-10-11T11:17:08.667870Z"
    },
    "colab": {
     "base_uri": "https://localhost:8080/"
    },
    "id": "V-UnGvvxgX1C",
    "outputId": "7e7ed882-6644-4203-80c6-8ae578e507dd"
   },
   "outputs": [
    {
     "data": {
      "text/plain": [
       "tensor([111., 222., 333.])"
      ]
     },
     "execution_count": 27,
     "metadata": {},
     "output_type": "execute_result"
    }
   ],
   "source": [
    "a.sum(0)"
   ]
  },
  {
   "cell_type": "code",
   "execution_count": 28,
   "metadata": {
    "ExecuteTime": {
     "end_time": "2021-10-11T11:17:08.697882Z",
     "start_time": "2021-10-11T11:17:08.682886Z"
    },
    "colab": {
     "base_uri": "https://localhost:8080/"
    },
    "id": "55X6o0EAgpcs",
    "outputId": "60e786bb-1f75-4b47-ec80-4c87918a9e7f"
   },
   "outputs": [
    {
     "data": {
      "text/plain": [
       "tensor(300.)"
      ]
     },
     "execution_count": 28,
     "metadata": {},
     "output_type": "execute_result"
    }
   ],
   "source": [
    "a.max()  # по всему тензору // a.min()"
   ]
  },
  {
   "cell_type": "markdown",
   "metadata": {
    "id": "A2m4le71huce"
   },
   "source": [
    "## Матричные операции"
   ]
  },
  {
   "cell_type": "code",
   "execution_count": 29,
   "metadata": {
    "ExecuteTime": {
     "end_time": "2021-10-11T11:17:08.713885Z",
     "start_time": "2021-10-11T11:17:08.698882Z"
    },
    "colab": {
     "base_uri": "https://localhost:8080/"
    },
    "id": "qRzHFDI4g9fN",
    "outputId": "70a4a4ba-792e-431b-ce75-119f31a44d13"
   },
   "outputs": [
    {
     "data": {
      "text/plain": [
       "tensor([[  1.,  10., 100.],\n",
       "        [  2.,  20., 200.],\n",
       "        [  3.,  30., 300.]])"
      ]
     },
     "execution_count": 29,
     "metadata": {},
     "output_type": "execute_result"
    }
   ],
   "source": [
    "a.t()  # Transpose a tensor"
   ]
  },
  {
   "cell_type": "code",
   "execution_count": 30,
   "metadata": {
    "ExecuteTime": {
     "end_time": "2021-10-11T11:17:08.729869Z",
     "start_time": "2021-10-11T11:17:08.715873Z"
    },
    "colab": {
     "base_uri": "https://localhost:8080/"
    },
    "id": "acWfKT1wh5Qf",
    "outputId": "cbec62fd-4b49-4b9d-9bf6-35bbb60da7fc"
   },
   "outputs": [
    {
     "data": {
      "text/plain": [
       "tensor(-141.)"
      ]
     },
     "execution_count": 30,
     "metadata": {},
     "output_type": "execute_result"
    }
   ],
   "source": [
    "# векторное (скалярное) произведение\n",
    "a = torch.FloatTensor([1, 2, 3, 4, 5, 6])\n",
    "b = torch.FloatTensor([-1, -2, -4, -6, -8, -10])\n",
    "a.dot(b)"
   ]
  },
  {
   "cell_type": "code",
   "execution_count": 31,
   "metadata": {
    "ExecuteTime": {
     "end_time": "2021-10-11T11:17:08.744886Z",
     "start_time": "2021-10-11T11:17:08.731872Z"
    },
    "colab": {
     "base_uri": "https://localhost:8080/"
    },
    "id": "RNhP_dSriMi7",
    "outputId": "58fc37b9-e67f-415c-ecbf-c2e7bc682345"
   },
   "outputs": [
    {
     "data": {
      "text/plain": [
       "tensor(-141.)"
      ]
     },
     "execution_count": 31,
     "metadata": {},
     "output_type": "execute_result"
    }
   ],
   "source": [
    "a @ b  # = a.dot(b)"
   ]
  },
  {
   "cell_type": "code",
   "execution_count": 32,
   "metadata": {
    "ExecuteTime": {
     "end_time": "2021-10-11T11:17:08.759883Z",
     "start_time": "2021-10-11T11:17:08.746874Z"
    },
    "id": "88VddEwvmy8b"
   },
   "outputs": [],
   "source": [
    "# матричное произведение\n",
    "a = torch.FloatTensor([[1, 2, 3], [10, 20, 30], [100, 200, 300]])\n",
    "b = torch.FloatTensor([[-1, -2, -3], [-10, -20, -30], [100, 200, 300]])"
   ]
  },
  {
   "cell_type": "code",
   "execution_count": 33,
   "metadata": {
    "ExecuteTime": {
     "end_time": "2021-10-11T11:17:08.775873Z",
     "start_time": "2021-10-11T11:17:08.760883Z"
    },
    "colab": {
     "base_uri": "https://localhost:8080/"
    },
    "id": "Emq-dzM1m9eX",
    "outputId": "d418307a-69f5-48c3-80fe-11eb841646b4"
   },
   "outputs": [
    {
     "data": {
      "text/plain": [
       "tensor([[  279.,   558.,   837.],\n",
       "        [ 2790.,  5580.,  8370.],\n",
       "        [27900., 55800., 83700.]])"
      ]
     },
     "execution_count": 33,
     "metadata": {},
     "output_type": "execute_result"
    }
   ],
   "source": [
    "a.mm(b)  # = a @ b"
   ]
  },
  {
   "cell_type": "code",
   "execution_count": 34,
   "metadata": {
    "ExecuteTime": {
     "end_time": "2021-10-11T11:17:08.791869Z",
     "start_time": "2021-10-11T11:17:08.777873Z"
    },
    "id": "ahP1CpFOnjN4"
   },
   "outputs": [],
   "source": [
    "a = torch.FloatTensor([[1, 2, 3], [10, 20, 30], [100, 200, 300]])\n",
    "b = torch.FloatTensor([[-1], [-10], [100]])"
   ]
  },
  {
   "cell_type": "code",
   "execution_count": 35,
   "metadata": {
    "ExecuteTime": {
     "end_time": "2021-10-11T11:17:08.807884Z",
     "start_time": "2021-10-11T11:17:08.793870Z"
    },
    "colab": {
     "base_uri": "https://localhost:8080/"
    },
    "id": "fYl2WPxJnlvx",
    "outputId": "8449b198-0079-4da0-a608-79678b6a8980"
   },
   "outputs": [
    {
     "data": {
      "text/plain": [
       "tensor([[  279.],\n",
       "        [ 2790.],\n",
       "        [27900.]])"
      ]
     },
     "execution_count": 35,
     "metadata": {},
     "output_type": "execute_result"
    }
   ],
   "source": [
    "a @ b"
   ]
  },
  {
   "cell_type": "code",
   "execution_count": 36,
   "metadata": {
    "ExecuteTime": {
     "end_time": "2021-10-11T11:17:08.823870Z",
     "start_time": "2021-10-11T11:17:08.809872Z"
    },
    "colab": {
     "base_uri": "https://localhost:8080/"
    },
    "id": "OS0htlkjnrpt",
    "outputId": "847a7026-faf0-466c-ec89-b27648a1915d"
   },
   "outputs": [
    {
     "data": {
      "text/plain": [
       "(tensor([  279.,  2790., 27900.]), tensor([ -1., -10., 100.]))"
      ]
     },
     "execution_count": 36,
     "metadata": {},
     "output_type": "execute_result"
    }
   ],
   "source": [
    "# умножение матрицы на вектор\n",
    "a @ b.view(-1), b.view(-1)"
   ]
  },
  {
   "cell_type": "code",
   "execution_count": 37,
   "metadata": {
    "ExecuteTime": {
     "end_time": "2021-10-11T11:17:08.838884Z",
     "start_time": "2021-10-11T11:17:08.825872Z"
    },
    "colab": {
     "base_uri": "https://localhost:8080/"
    },
    "id": "W2klzhqooSxY",
    "outputId": "00180a68-5095-46bb-e203-19b92e8100b0"
   },
   "outputs": [
    {
     "data": {
      "text/plain": [
       "tensor([  279.,  2790., 27900.])"
      ]
     },
     "execution_count": 37,
     "metadata": {},
     "output_type": "execute_result"
    }
   ],
   "source": [
    "a.mv(b.view(-1))"
   ]
  },
  {
   "cell_type": "markdown",
   "metadata": {
    "id": "YpTLAvfOog2z"
   },
   "source": [
    "## NUMPY <--> PYTORCH"
   ]
  },
  {
   "cell_type": "code",
   "execution_count": 38,
   "metadata": {
    "ExecuteTime": {
     "end_time": "2021-10-11T11:17:08.854874Z",
     "start_time": "2021-10-11T11:17:08.840869Z"
    },
    "colab": {
     "base_uri": "https://localhost:8080/"
    },
    "id": "VZHW1ev5oq-d",
    "outputId": "56993b72-b0b4-42a3-e9af-45f0dfcf072f"
   },
   "outputs": [
    {
     "data": {
      "text/plain": [
       "(array([[0.65462221, 0.23890459, 0.99863569],\n",
       "        [0.2893298 , 0.63769945, 0.94513553],\n",
       "        [0.75678708, 0.10639604, 0.45744498]]),\n",
       " numpy.ndarray)"
      ]
     },
     "execution_count": 38,
     "metadata": {},
     "output_type": "execute_result"
    }
   ],
   "source": [
    "a = np.random.rand(3, 3)\n",
    "a, type(a)"
   ]
  },
  {
   "cell_type": "code",
   "execution_count": 39,
   "metadata": {
    "ExecuteTime": {
     "end_time": "2021-10-11T11:17:08.869874Z",
     "start_time": "2021-10-11T11:17:08.856874Z"
    },
    "colab": {
     "base_uri": "https://localhost:8080/"
    },
    "id": "w2DegHZgo4vz",
    "outputId": "6ff06a76-1a01-42d7-d5a7-ba10aceb80d9"
   },
   "outputs": [
    {
     "data": {
      "text/plain": [
       "tensor([[0.6546, 0.2389, 0.9986],\n",
       "        [0.2893, 0.6377, 0.9451],\n",
       "        [0.7568, 0.1064, 0.4574]], dtype=torch.float64)"
      ]
     },
     "execution_count": 39,
     "metadata": {},
     "output_type": "execute_result"
    }
   ],
   "source": [
    "# numpy->pytorch\n",
    "# используют одну и ту же память - если изменить а, то изменится и b\n",
    "b = torch.from_numpy(a)\n",
    "b"
   ]
  },
  {
   "cell_type": "code",
   "execution_count": 40,
   "metadata": {
    "ExecuteTime": {
     "end_time": "2021-10-11T11:17:08.884874Z",
     "start_time": "2021-10-11T11:17:08.871872Z"
    },
    "colab": {
     "base_uri": "https://localhost:8080/"
    },
    "id": "iHhYYddRpNqr",
    "outputId": "1d70deb5-e432-472b-e063-4cb3a464d05e"
   },
   "outputs": [
    {
     "data": {
      "text/plain": [
       "(tensor([[[1.0564e-05, 4.1880e-11, 4.2490e-05, 2.9573e-18],\n",
       "          [6.7333e+22, 1.7591e+22, 1.7184e+25, 4.3222e+27],\n",
       "          [6.1972e-04, 7.2443e+22, 1.7728e+28, 7.0367e+22]],\n",
       " \n",
       "         [[9.6695e-06, 8.3101e+20, 1.3028e-11, 1.7186e-04],\n",
       "          [1.0489e-08, 8.1919e-10, 1.9968e+20, 1.1038e-05],\n",
       "          [3.3209e-09, 3.1199e-18, 7.7052e+31, 1.9447e+31]]]),\n",
       " torch.Tensor)"
      ]
     },
     "execution_count": 40,
     "metadata": {},
     "output_type": "execute_result"
    }
   ],
   "source": [
    "a = torch.FloatTensor(2, 3, 4)\n",
    "a, type(a)"
   ]
  },
  {
   "cell_type": "code",
   "execution_count": 41,
   "metadata": {
    "ExecuteTime": {
     "end_time": "2021-10-11T11:17:08.900883Z",
     "start_time": "2021-10-11T11:17:08.886871Z"
    },
    "colab": {
     "base_uri": "https://localhost:8080/"
    },
    "id": "3_8D13BppVhv",
    "outputId": "df97ace7-c3f0-44c9-e25a-74e6970800ad"
   },
   "outputs": [
    {
     "data": {
      "text/plain": [
       "(array([[[1.05635709e-05, 4.18795901e-11, 4.24899226e-05, 2.95732103e-18],\n",
       "         [6.73331199e+22, 1.75905377e+22, 1.71842178e+25, 4.32216629e+27],\n",
       "         [6.19715371e-04, 7.24431922e+22, 1.77283446e+28, 7.03667221e+22]],\n",
       " \n",
       "        [[9.66948755e-06, 8.31008144e+20, 1.30278895e-11, 1.71855820e-04],\n",
       "         [1.04892424e-08, 8.19187829e-10, 1.99682342e+20, 1.10381270e-05],\n",
       "         [3.32091865e-09, 3.11990731e-18, 7.70520767e+31, 1.94469173e+31]]],\n",
       "       dtype=float32),\n",
       " numpy.ndarray)"
      ]
     },
     "execution_count": 41,
     "metadata": {},
     "output_type": "execute_result"
    }
   ],
   "source": [
    "x = a.numpy()\n",
    "x, type(x)"
   ]
  },
  {
   "cell_type": "code",
   "execution_count": 42,
   "metadata": {
    "ExecuteTime": {
     "end_time": "2021-10-11T11:17:08.915882Z",
     "start_time": "2021-10-11T11:17:08.902872Z"
    },
    "colab": {
     "base_uri": "https://localhost:8080/"
    },
    "id": "iWT2Oe0LpoW3",
    "outputId": "204aaa18-8f44-4a76-ba12-e0ffeb3e15bd"
   },
   "outputs": [
    {
     "data": {
      "text/plain": [
       "(tensor([[[0., 0., 0., 0.],\n",
       "          [0., 0., 0., 0.],\n",
       "          [0., 0., 0., 0.]],\n",
       " \n",
       "         [[0., 0., 0., 0.],\n",
       "          [0., 0., 0., 0.],\n",
       "          [0., 0., 0., 0.]]]),\n",
       " array([[[0., 0., 0., 0.],\n",
       "         [0., 0., 0., 0.],\n",
       "         [0., 0., 0., 0.]],\n",
       " \n",
       "        [[0., 0., 0., 0.],\n",
       "         [0., 0., 0., 0.],\n",
       "         [0., 0., 0., 0.]]], dtype=float32))"
      ]
     },
     "execution_count": 42,
     "metadata": {},
     "output_type": "execute_result"
    }
   ],
   "source": [
    "a.zero_()\n",
    "a, x"
   ]
  }
 ],
 "metadata": {
  "colab": {
   "name": "torch_1.ipynb",
   "provenance": []
  },
  "kernelspec": {
   "display_name": "Python 3",
   "language": "python",
   "name": "python3"
  },
  "language_info": {
   "codemirror_mode": {
    "name": "ipython",
    "version": 3
   },
   "file_extension": ".py",
   "mimetype": "text/x-python",
   "name": "python",
   "nbconvert_exporter": "python",
   "pygments_lexer": "ipython3",
   "version": "3.8.8"
  },
  "toc": {
   "base_numbering": 1,
   "nav_menu": {},
   "number_sections": true,
   "sideBar": true,
   "skip_h1_title": false,
   "title_cell": "Table of Contents",
   "title_sidebar": "Contents",
   "toc_cell": false,
   "toc_position": {},
   "toc_section_display": true,
   "toc_window_display": false
  }
 },
 "nbformat": 4,
 "nbformat_minor": 1
}
